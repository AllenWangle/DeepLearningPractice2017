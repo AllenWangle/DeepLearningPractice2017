{
 "cells": [
  {
   "cell_type": "markdown",
   "metadata": {},
   "source": [
    "# 句子级情感分类任务，使用豆瓣评论作为训练语料\n",
    "## 换成其他语料时，只要改变第一块中df的内容即可"
   ]
  },
  {
   "cell_type": "code",
   "execution_count": 1,
   "metadata": {
    "collapsed": false
   },
   "outputs": [
    {
     "data": {
      "text/html": [
       "<div>\n",
       "<table border=\"1\" class=\"dataframe\">\n",
       "  <thead>\n",
       "    <tr style=\"text-align: right;\">\n",
       "      <th></th>\n",
       "      <th>label</th>\n",
       "      <th>content</th>\n",
       "    </tr>\n",
       "  </thead>\n",
       "  <tbody>\n",
       "    <tr>\n",
       "      <th>0</th>\n",
       "      <td>1</td>\n",
       "      <td>智取 威虎山 之 寻找 梁家辉</td>\n",
       "    </tr>\n",
       "    <tr>\n",
       "      <th>1</th>\n",
       "      <td>1</td>\n",
       "      <td>燃爆 了 ！ ！ ！</td>\n",
       "    </tr>\n",
       "    <tr>\n",
       "      <th>2</th>\n",
       "      <td>1</td>\n",
       "      <td>硬到 骨子里</td>\n",
       "    </tr>\n",
       "    <tr>\n",
       "      <th>3</th>\n",
       "      <td>0</td>\n",
       "      <td>红色 电影 新 马甲 。</td>\n",
       "    </tr>\n",
       "    <tr>\n",
       "      <th>4</th>\n",
       "      <td>0</td>\n",
       "      <td>看 完 影评 我 觉得 我 是 一个 人   不能 更 糟心 的 片子</td>\n",
       "    </tr>\n",
       "  </tbody>\n",
       "</table>\n",
       "</div>"
      ],
      "text/plain": [
       "   label                               content\n",
       "0      1                      智取 威虎山 之 寻找 梁家辉 \n",
       "1      1                           燃爆 了 ！ ！ ！ \n",
       "2      1                               硬到 骨子里 \n",
       "3      0                         红色 电影 新 马甲 。 \n",
       "4      0  看 完 影评 我 觉得 我 是 一个 人   不能 更 糟心 的 片子 "
      ]
     },
     "execution_count": 1,
     "metadata": {},
     "output_type": "execute_result"
    }
   ],
   "source": [
    "import numpy as np\n",
    "np.random.seed(1337)  # for reproducibility\n",
    "\n",
    "import pandas as pd\n",
    "df=pd.read_csv('data/DoubanZH.txt',names=['label','content'])\n",
    "df['label']=df.label.apply(lambda x:1 if x==50 else 0)\n",
    "df=df[df.content.isnull()==False]\n",
    "df.head()"
   ]
  },
  {
   "cell_type": "markdown",
   "metadata": {},
   "source": [
    "## 处理语料格式，将文本转为id"
   ]
  },
  {
   "cell_type": "code",
   "execution_count": 33,
   "metadata": {
    "collapsed": false
   },
   "outputs": [
    {
     "name": "stdout",
     "output_type": "stream",
     "text": [
      "词表中共包含单词124374个\n",
      "最长句子长度为140个词\n"
     ]
    }
   ],
   "source": [
    "# 提取全文的词表\n",
    "vocabs={'\\s':0}\n",
    "vocab_list=['\\s']\n",
    "for content in df.content:\n",
    "    for word in content.split():\n",
    "        if word not in vocabs:\n",
    "            vocabs[word]=len(vocabs)\n",
    "            vocab_list.append(word)\n",
    "print('词表中共包含单词%d个'%len(vocabs))\n",
    "\n",
    "# 将中文的句子中的单词转为id\n",
    "data=[]\n",
    "for content in df.content:\n",
    "    sentence=[]\n",
    "    for word in content.split():\n",
    "        sentence.append(vocabs[word])\n",
    "    data.append(sentence)\n",
    "    \n",
    "print('最长句子长度为%d个词'%np.max([len(sentence) for sentence in data]))\n",
    "\n",
    "# 载入数据\n",
    "from keras.preprocessing import sequence\n",
    "\n",
    "xs=sequence.pad_sequences(data,maxlen=80)\n",
    "ys=df.label.values"
   ]
  },
  {
   "cell_type": "markdown",
   "metadata": {},
   "source": [
    "## 构建CNN模型"
   ]
  },
  {
   "cell_type": "code",
   "execution_count": 41,
   "metadata": {
    "collapsed": false
   },
   "outputs": [],
   "source": [
    "from keras.preprocessing import sequence\n",
    "from keras.models import Sequential,Model\n",
    "from keras.layers import Dense, Dropout, Activation\n",
    "from keras.layers import Embedding,Input\n",
    "from keras.layers import Convolution1D, GlobalMaxPooling1D\n",
    "from keras.datasets import imdb\n",
    "\n",
    "\n",
    "# set parameters:\n",
    "max_features = len(vocabs)\n",
    "maxlen = 400\n",
    "batch_size = 256\n",
    "embedding_dims = 100\n",
    "nb_filter = 250\n",
    "filter_length = 3\n",
    "hidden_dims = 250\n",
    "nb_epoch = 10"
   ]
  },
  {
   "cell_type": "code",
   "execution_count": 42,
   "metadata": {
    "collapsed": false
   },
   "outputs": [
    {
     "name": "stdout",
     "output_type": "stream",
     "text": [
      "Train on 219205 samples, validate on 54802 samples\n",
      "Epoch 1/10\n",
      "219205/219205 [==============================] - 17s - loss: 0.3305 - acc: 0.8544 - val_loss: 0.2678 - val_acc: 0.8900\n",
      "Epoch 2/10\n",
      "219205/219205 [==============================] - 17s - loss: 0.2328 - acc: 0.9053 - val_loss: 0.2781 - val_acc: 0.8847\n",
      "Epoch 3/10\n",
      "219205/219205 [==============================] - 17s - loss: 0.1823 - acc: 0.9279 - val_loss: 0.2639 - val_acc: 0.8916\n",
      "Epoch 4/10\n",
      "219205/219205 [==============================] - 17s - loss: 0.1492 - acc: 0.9415 - val_loss: 0.2765 - val_acc: 0.8918\n",
      "Epoch 5/10\n",
      "219205/219205 [==============================] - 17s - loss: 0.1274 - acc: 0.9504 - val_loss: 0.2889 - val_acc: 0.8893\n",
      "Epoch 6/10\n",
      "219205/219205 [==============================] - 17s - loss: 0.1147 - acc: 0.9552 - val_loss: 0.3037 - val_acc: 0.8884\n",
      "Epoch 7/10\n",
      "219205/219205 [==============================] - 17s - loss: 0.1041 - acc: 0.9586 - val_loss: 0.3110 - val_acc: 0.8863\n",
      "Epoch 8/10\n",
      "219205/219205 [==============================] - 17s - loss: 0.0972 - acc: 0.9619 - val_loss: 0.3358 - val_acc: 0.8864\n",
      "Epoch 9/10\n",
      "219205/219205 [==============================] - 17s - loss: 0.0929 - acc: 0.9634 - val_loss: 0.3286 - val_acc: 0.8865\n",
      "Epoch 10/10\n",
      "219205/219205 [==============================] - 17s - loss: 0.0883 - acc: 0.9650 - val_loss: 0.3337 - val_acc: 0.8848\n"
     ]
    },
    {
     "data": {
      "text/plain": [
       "<keras.callbacks.History at 0x7f03e695c6a0>"
      ]
     },
     "execution_count": 42,
     "metadata": {},
     "output_type": "execute_result"
    }
   ],
   "source": [
    "input=Input(shape=(80,),dtype='int32')\n",
    "\n",
    "x=Embedding(max_features,\n",
    "                    embedding_dims,\n",
    "                    input_length=maxlen,\n",
    "                    dropout=0.2,)(input)\n",
    "\n",
    "\n",
    "x=Convolution1D(nb_filter=nb_filter,\n",
    "                        filter_length=filter_length,\n",
    "                        border_mode='valid',\n",
    "                        activation='relu',\n",
    "                        subsample_length=1)(x)\n",
    "x=GlobalMaxPooling1D()(x)\n",
    "# We add a vanilla hidden layer:\n",
    "x=Dense(hidden_dims)(x)\n",
    "x=Dropout(0.2)(x)\n",
    "x=Activation('relu')(x)\n",
    "\n",
    "# We project onto a single unit output layer, and squash it with a sigmoid:\n",
    "x=Dense(1)(x)\n",
    "output=Activation('sigmoid')(x)\n",
    "\n",
    "model=Model(input=[input],output=output)\n",
    "\n",
    "model.compile(loss='binary_crossentropy',\n",
    "              optimizer='adam',\n",
    "              metrics=['accuracy'])\n",
    "model.fit(xs, ys,\n",
    "          batch_size=batch_size,\n",
    "          nb_epoch=nb_epoch,validation_split=0.2,verbose=1)\n"
   ]
  },
  {
   "cell_type": "code",
   "execution_count": 14,
   "metadata": {
    "collapsed": false
   },
   "outputs": [],
   "source": [
    "import gensim\n",
    "w2v=gensim.models.Word2Vec.load('../WordEmbedding/data/news_tensite_xml.dat.jiebaresult.w2v')\n",
    "fastText=gensim.models.Word2Vec.load_word2vec_format('../WordEmbedding/data/news_tensite_xml.dat.jiebaresult.fasttext.vec')"
   ]
  },
  {
   "cell_type": "code",
   "execution_count": 36,
   "metadata": {
    "collapsed": false
   },
   "outputs": [
    {
     "name": "stdout",
     "output_type": "stream",
     "text": [
      "(124374, 100)\n"
     ]
    }
   ],
   "source": [
    "weights=np.array([w2v[word] if word in w2v else \n",
    "                  np.random.uniform(low=-0.05,high=0.05,size=(embedding_dims,)) \n",
    "                 for word in vocab_list])\n",
    "print(weights.shape)"
   ]
  },
  {
   "cell_type": "code",
   "execution_count": 43,
   "metadata": {
    "collapsed": false
   },
   "outputs": [
    {
     "name": "stdout",
     "output_type": "stream",
     "text": [
      "Train on 219205 samples, validate on 54802 samples\n",
      "Epoch 1/20\n",
      "219205/219205 [==============================] - 20s - loss: 0.4199 - acc: 0.8083 - val_loss: 0.3360 - val_acc: 0.8542\n",
      "Epoch 2/20\n",
      "219205/219205 [==============================] - 20s - loss: 0.3219 - acc: 0.8594 - val_loss: 0.2872 - val_acc: 0.8787\n",
      "Epoch 3/20\n",
      "219205/219205 [==============================] - 20s - loss: 0.2831 - acc: 0.8800 - val_loss: 0.2659 - val_acc: 0.8912\n",
      "Epoch 4/20\n",
      "219205/219205 [==============================] - 20s - loss: 0.2550 - acc: 0.8934 - val_loss: 0.2617 - val_acc: 0.8915\n",
      "Epoch 5/20\n",
      "219205/219205 [==============================] - 20s - loss: 0.2384 - acc: 0.9009 - val_loss: 0.2542 - val_acc: 0.8968\n",
      "Epoch 6/20\n",
      "219205/219205 [==============================] - 20s - loss: 0.2218 - acc: 0.9095 - val_loss: 0.2534 - val_acc: 0.8962\n",
      "Epoch 7/20\n",
      "219205/219205 [==============================] - 19s - loss: 0.2109 - acc: 0.9147 - val_loss: 0.2610 - val_acc: 0.8951\n",
      "Epoch 8/20\n",
      "219205/219205 [==============================] - 19s - loss: 0.1986 - acc: 0.9199 - val_loss: 0.2645 - val_acc: 0.8954\n",
      "Epoch 9/20\n",
      "219205/219205 [==============================] - 19s - loss: 0.1887 - acc: 0.9236 - val_loss: 0.2644 - val_acc: 0.8941\n",
      "Epoch 10/20\n",
      "219205/219205 [==============================] - 19s - loss: 0.1806 - acc: 0.9273 - val_loss: 0.2696 - val_acc: 0.8954\n",
      "Epoch 11/20\n",
      "219205/219205 [==============================] - 19s - loss: 0.1725 - acc: 0.9304 - val_loss: 0.2663 - val_acc: 0.8959\n",
      "Epoch 12/20\n",
      "219205/219205 [==============================] - 19s - loss: 0.1655 - acc: 0.9335 - val_loss: 0.2879 - val_acc: 0.8909\n",
      "Epoch 13/20\n",
      "219205/219205 [==============================] - 19s - loss: 0.1613 - acc: 0.9352 - val_loss: 0.3055 - val_acc: 0.8880\n",
      "Epoch 14/20\n",
      "219205/219205 [==============================] - 20s - loss: 0.1559 - acc: 0.9371 - val_loss: 0.2911 - val_acc: 0.8918\n",
      "Epoch 15/20\n",
      "219205/219205 [==============================] - 19s - loss: 0.1508 - acc: 0.9395 - val_loss: 0.3000 - val_acc: 0.8920\n",
      "Epoch 16/20\n",
      "219205/219205 [==============================] - 19s - loss: 0.1465 - acc: 0.9410 - val_loss: 0.3237 - val_acc: 0.8887\n",
      "Epoch 17/20\n",
      "219205/219205 [==============================] - 20s - loss: 0.1414 - acc: 0.9438 - val_loss: 0.3181 - val_acc: 0.8864\n",
      "Epoch 18/20\n",
      "219205/219205 [==============================] - 19s - loss: 0.1391 - acc: 0.9440 - val_loss: 0.3218 - val_acc: 0.8906\n",
      "Epoch 19/20\n",
      "219205/219205 [==============================] - 19s - loss: 0.1365 - acc: 0.9451 - val_loss: 0.3201 - val_acc: 0.8913\n",
      "Epoch 20/20\n",
      "219205/219205 [==============================] - 19s - loss: 0.1330 - acc: 0.9464 - val_loss: 0.3455 - val_acc: 0.8881\n"
     ]
    },
    {
     "data": {
      "text/plain": [
       "<keras.callbacks.History at 0x7f03e6469208>"
      ]
     },
     "execution_count": 43,
     "metadata": {},
     "output_type": "execute_result"
    }
   ],
   "source": [
    "input=Input(shape=(80,),dtype='int32')\n",
    "\n",
    "x=Embedding(max_features,\n",
    "                    embedding_dims,\n",
    "                    input_length=maxlen,weights=[weights],\n",
    "                    dropout=0.2,)(input)\n",
    "\n",
    "\n",
    "x=Convolution1D(nb_filter=nb_filter,\n",
    "                        filter_length=filter_length,\n",
    "                        border_mode='valid',\n",
    "                        activation='relu',\n",
    "                        subsample_length=1)(x)\n",
    "x=GlobalMaxPooling1D()(x)\n",
    "# We add a vanilla hidden layer:\n",
    "x=Dense(hidden_dims)(x)\n",
    "x=Dropout(0.2)(x)\n",
    "x=Activation('relu')(x)\n",
    "\n",
    "# We project onto a single unit output layer, and squash it with a sigmoid:\n",
    "x=Dense(1)(x)\n",
    "output=Activation('sigmoid')(x)\n",
    "\n",
    "model=Model(input=[input],output=output)\n",
    "\n",
    "model.compile(loss='binary_crossentropy',\n",
    "              optimizer='adam',\n",
    "              metrics=['accuracy'])\n",
    "model.fit(xs, ys,\n",
    "          batch_size=batch_size,\n",
    "          nb_epoch=20,validation_split=0.2,verbose=1)\n"
   ]
  }
 ],
 "metadata": {
  "anaconda-cloud": {},
  "kernelspec": {
   "display_name": "Python [conda root]",
   "language": "python",
   "name": "conda-root-py"
  },
  "language_info": {
   "codemirror_mode": {
    "name": "ipython",
    "version": 3
   },
   "file_extension": ".py",
   "mimetype": "text/x-python",
   "name": "python",
   "nbconvert_exporter": "python",
   "pygments_lexer": "ipython3",
   "version": "3.5.2"
  }
 },
 "nbformat": 4,
 "nbformat_minor": 1
}
