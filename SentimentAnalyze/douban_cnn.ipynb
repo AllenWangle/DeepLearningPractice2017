{
 "cells": [
  {
   "cell_type": "markdown",
   "metadata": {},
   "source": [
    "# 句子级情感分类任务，使用豆瓣评论作为训练语料\n",
    "## 换成其他语料时，只要改变第一块中df的内容即可"
   ]
  },
  {
   "cell_type": "code",
   "execution_count": 27,
   "metadata": {
    "collapsed": false
   },
   "outputs": [
    {
     "data": {
      "text/html": [
       "<div>\n",
       "<table border=\"1\" class=\"dataframe\">\n",
       "  <thead>\n",
       "    <tr style=\"text-align: right;\">\n",
       "      <th></th>\n",
       "      <th>label</th>\n",
       "      <th>content</th>\n",
       "    </tr>\n",
       "  </thead>\n",
       "  <tbody>\n",
       "    <tr>\n",
       "      <th>0</th>\n",
       "      <td>1</td>\n",
       "      <td>智取 威虎山 之 寻找 梁家辉</td>\n",
       "    </tr>\n",
       "    <tr>\n",
       "      <th>1</th>\n",
       "      <td>1</td>\n",
       "      <td>燃爆 了 ！ ！ ！</td>\n",
       "    </tr>\n",
       "    <tr>\n",
       "      <th>2</th>\n",
       "      <td>1</td>\n",
       "      <td>硬到 骨子里</td>\n",
       "    </tr>\n",
       "    <tr>\n",
       "      <th>3</th>\n",
       "      <td>0</td>\n",
       "      <td>红色 电影 新 马甲 。</td>\n",
       "    </tr>\n",
       "    <tr>\n",
       "      <th>4</th>\n",
       "      <td>0</td>\n",
       "      <td>看 完 影评 我 觉得 我 是 一个 人   不能 更 糟心 的 片子</td>\n",
       "    </tr>\n",
       "  </tbody>\n",
       "</table>\n",
       "</div>"
      ],
      "text/plain": [
       "   label                               content\n",
       "0      1                      智取 威虎山 之 寻找 梁家辉 \n",
       "1      1                           燃爆 了 ！ ！ ！ \n",
       "2      1                               硬到 骨子里 \n",
       "3      0                         红色 电影 新 马甲 。 \n",
       "4      0  看 完 影评 我 觉得 我 是 一个 人   不能 更 糟心 的 片子 "
      ]
     },
     "execution_count": 27,
     "metadata": {},
     "output_type": "execute_result"
    }
   ],
   "source": [
    "import numpy as np\n",
    "np.random.seed(1337)  # for reproducibility\n",
    "\n",
    "import pandas as pd\n",
    "df=pd.read_csv('data/DoubanZH.txt',names=['label','content'])\n",
    "df['label']=df.label.apply(lambda x:1 if x==50 else 0)\n",
    "df=df[df.content.isnull()==False]\n",
    "df.head()"
   ]
  },
  {
   "cell_type": "markdown",
   "metadata": {},
   "source": [
    "## 处理语料格式，将文本转为id"
   ]
  },
  {
   "cell_type": "code",
   "execution_count": 28,
   "metadata": {
    "collapsed": false
   },
   "outputs": [
    {
     "name": "stdout",
     "output_type": "stream",
     "text": [
      "词表中共包含单词124374个\n"
     ]
    }
   ],
   "source": [
    "# 提取全文的词表\n",
    "vocabs={'\\s':0}\n",
    "for content in df.content:\n",
    "    for word in content.split():\n",
    "        vocabs[word]=len(vocabs)\n",
    "print('词表中共包含单词%d个'%len(vocabs))\n",
    "\n",
    "# 将中文的句子中的单词转为id\n",
    "data=[]\n",
    "for content in df.content:\n",
    "    sentence=[]\n",
    "    for word in content.split():\n",
    "        sentence.append(vocabs[word])\n",
    "    data.append(sentence)\n",
    "    \n",
    "print('最长句子长度为%d个词'%np.max([len(sentence) for sentence in data]))\n",
    "\n",
    "# 载入数据\n",
    "from keras.preprocessing import sequence\n",
    "\n",
    "xs=sequence.pad_sequences(data,maxlen=80)\n",
    "ys=df.label.values"
   ]
  },
  {
   "cell_type": "markdown",
   "metadata": {},
   "source": [
    "## 构建CNN模型"
   ]
  },
  {
   "cell_type": "code",
   "execution_count": 38,
   "metadata": {
    "collapsed": false
   },
   "outputs": [],
   "source": [
    "from keras.preprocessing import sequence\n",
    "from keras.models import Sequential\n",
    "from keras.layers import Dense, Dropout, Activation\n",
    "from keras.layers import Embedding\n",
    "from keras.layers import Convolution1D, GlobalMaxPooling1D\n",
    "from keras.datasets import imdb\n",
    "\n",
    "## 配置参数\n",
    "max_features = len(vocabs)\n",
    "maxlen = 80\n",
    "batch_size = 32\n",
    "embedding_dims = 50\n",
    "nb_filter = 250\n",
    "filter_length = 3\n",
    "hidden_dims = 250\n",
    "nb_epoch = 2"
   ]
  },
  {
   "cell_type": "code",
   "execution_count": null,
   "metadata": {
    "collapsed": false
   },
   "outputs": [],
   "source": [
    "model = Sequential()\n",
    "\n",
    "model.add(Embedding(max_features,\n",
    "                    embedding_dims,\n",
    "                    input_length=maxlen,\n",
    "                    dropout=0.2))\n",
    "\n",
    "model.add(Convolution1D(nb_filter=nb_filter,\n",
    "                        filter_length=filter_length,\n",
    "                        border_mode='valid',\n",
    "                        activation='relu',\n",
    "                        subsample_length=1))\n",
    "\n",
    "model.add(GlobalMaxPooling1D())\n",
    "\n",
    "# We add a vanilla hidden layer:\n",
    "model.add(Dense(hidden_dims))\n",
    "model.add(Dropout(0.2))\n",
    "model.add(Activation('relu'))\n",
    "\n",
    "# We project onto a single unit output layer, and squash it with a sigmoid:\n",
    "model.add(Dense(1))\n",
    "model.add(Activation('sigmoid'))\n",
    "\n",
    "model.compile(loss='binary_crossentropy',\n",
    "              optimizer='adam',\n",
    "              metrics=['accuracy'])\n",
    "model.fit(xs, ys,\n",
    "          batch_size=batch_size,\n",
    "          nb_epoch=nb_epoch,validation_split=0.2)\n"
   ]
  }
 ],
 "metadata": {
  "anaconda-cloud": {},
  "kernelspec": {
   "display_name": "Python [conda root]",
   "language": "python",
   "name": "conda-root-py"
  },
  "language_info": {
   "codemirror_mode": {
    "name": "ipython",
    "version": 3
   },
   "file_extension": ".py",
   "mimetype": "text/x-python",
   "name": "python",
   "nbconvert_exporter": "python",
   "pygments_lexer": "ipython3",
   "version": "3.5.2"
  }
 },
 "nbformat": 4,
 "nbformat_minor": 1
}
