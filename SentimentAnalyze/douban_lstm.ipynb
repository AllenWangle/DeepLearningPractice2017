{
 "cells": [
  {
   "cell_type": "code",
   "execution_count": 1,
   "metadata": {
    "collapsed": false
   },
   "outputs": [
    {
     "data": {
      "text/html": [
       "<div>\n",
       "<table border=\"1\" class=\"dataframe\">\n",
       "  <thead>\n",
       "    <tr style=\"text-align: right;\">\n",
       "      <th></th>\n",
       "      <th>label</th>\n",
       "      <th>content</th>\n",
       "    </tr>\n",
       "  </thead>\n",
       "  <tbody>\n",
       "    <tr>\n",
       "      <th>0</th>\n",
       "      <td>1</td>\n",
       "      <td>智取 威虎山 之 寻找 梁家辉</td>\n",
       "    </tr>\n",
       "    <tr>\n",
       "      <th>1</th>\n",
       "      <td>1</td>\n",
       "      <td>燃爆 了 ！ ！ ！</td>\n",
       "    </tr>\n",
       "    <tr>\n",
       "      <th>2</th>\n",
       "      <td>1</td>\n",
       "      <td>硬到 骨子里</td>\n",
       "    </tr>\n",
       "    <tr>\n",
       "      <th>3</th>\n",
       "      <td>0</td>\n",
       "      <td>红色 电影 新 马甲 。</td>\n",
       "    </tr>\n",
       "    <tr>\n",
       "      <th>4</th>\n",
       "      <td>0</td>\n",
       "      <td>看 完 影评 我 觉得 我 是 一个 人   不能 更 糟心 的 片子</td>\n",
       "    </tr>\n",
       "  </tbody>\n",
       "</table>\n",
       "</div>"
      ],
      "text/plain": [
       "   label                               content\n",
       "0      1                      智取 威虎山 之 寻找 梁家辉 \n",
       "1      1                           燃爆 了 ！ ！ ！ \n",
       "2      1                               硬到 骨子里 \n",
       "3      0                         红色 电影 新 马甲 。 \n",
       "4      0  看 完 影评 我 觉得 我 是 一个 人   不能 更 糟心 的 片子 "
      ]
     },
     "execution_count": 1,
     "metadata": {},
     "output_type": "execute_result"
    }
   ],
   "source": [
    "import numpy as np\n",
    "np.random.seed(1337)  # for reproducibility\n",
    "\n",
    "import pandas as pd\n",
    "df=pd.read_csv('data/DoubanZH.txt',names=['label','content'])\n",
    "df['label']=df.label.apply(lambda x:1 if x==50 else 0)\n",
    "df=df[df.content.isnull()==False]\n",
    "df.head()"
   ]
  },
  {
   "cell_type": "code",
   "execution_count": 2,
   "metadata": {
    "collapsed": false
   },
   "outputs": [
    {
     "name": "stdout",
     "output_type": "stream",
     "text": [
      "词表中共包含单词124374个\n",
      "最长句子长度为140个词\n"
     ]
    },
    {
     "name": "stderr",
     "output_type": "stream",
     "text": [
      "Using Theano backend.\n",
      "Using gpu device 1: GeForce GTX 1080 (CNMeM is disabled, cuDNN 5110)\n"
     ]
    }
   ],
   "source": [
    "# 提取全文的词表\n",
    "vocabs={'\\s':0}\n",
    "for content in df.content:\n",
    "    for word in content.split():\n",
    "        vocabs[word]=len(vocabs)\n",
    "print('词表中共包含单词%d个'%len(vocabs))\n",
    "\n",
    "# 将中文的句子中的单词转为id\n",
    "data=[]\n",
    "for content in df.content:\n",
    "    sentence=[]\n",
    "    for word in content.split():\n",
    "        sentence.append(vocabs[word])\n",
    "    data.append(sentence)\n",
    "    \n",
    "print('最长句子长度为%d个词'%np.max([len(sentence) for sentence in data]))\n",
    "\n",
    "# 载入数据\n",
    "from keras.preprocessing import sequence\n",
    "\n",
    "xs=sequence.pad_sequences(data,maxlen=80)\n",
    "ys=df.label.values"
   ]
  },
  {
   "cell_type": "markdown",
   "metadata": {},
   "source": [
    "# LSTM模型"
   ]
  },
  {
   "cell_type": "code",
   "execution_count": 3,
   "metadata": {
    "collapsed": true
   },
   "outputs": [],
   "source": [
    "from keras.preprocessing import sequence\n",
    "from keras.models import Model\n",
    "from keras.layers import Dense, Activation, Embedding,Input\n",
    "from keras.layers import LSTM\n",
    "from keras.datasets import imdb\n",
    "\n",
    "max_features = len(vocabs)+1\n",
    "embedding_dims = 50\n",
    "maxlen = 80  # cut texts after this number of words (among top max_features most common words)\n",
    "batch_size = 128\n",
    "nb_epoch=10"
   ]
  },
  {
   "cell_type": "code",
   "execution_count": 4,
   "metadata": {
    "collapsed": false
   },
   "outputs": [
    {
     "name": "stdout",
     "output_type": "stream",
     "text": [
      "Train on 219205 samples, validate on 54802 samples\n",
      "Epoch 1/10\n",
      "219205/219205 [==============================] - 147s - loss: 0.5529 - acc: 0.7251 - val_loss: 0.5391 - val_acc: 0.7442\n",
      "Epoch 2/10\n",
      "219205/219205 [==============================] - 145s - loss: 0.4857 - acc: 0.7723 - val_loss: 0.5368 - val_acc: 0.7418\n",
      "Epoch 3/10\n",
      "219205/219205 [==============================] - 145s - loss: 0.4561 - acc: 0.7901 - val_loss: 0.5380 - val_acc: 0.7445\n",
      "Epoch 4/10\n",
      "219205/219205 [==============================] - 145s - loss: 0.4352 - acc: 0.8004 - val_loss: 0.5440 - val_acc: 0.7483\n",
      "Epoch 5/10\n",
      "219205/219205 [==============================] - 146s - loss: 0.4168 - acc: 0.8100 - val_loss: 0.5477 - val_acc: 0.7501\n",
      "Epoch 6/10\n",
      "219205/219205 [==============================] - 146s - loss: 0.4020 - acc: 0.8165 - val_loss: 0.5545 - val_acc: 0.7494\n",
      "Epoch 7/10\n",
      "219205/219205 [==============================] - 146s - loss: 0.3893 - acc: 0.8221 - val_loss: 0.5667 - val_acc: 0.7477\n",
      "Epoch 8/10\n",
      "219205/219205 [==============================] - 145s - loss: 0.3777 - acc: 0.8276 - val_loss: 0.5788 - val_acc: 0.7488\n",
      "Epoch 9/10\n",
      "219205/219205 [==============================] - 146s - loss: 0.3678 - acc: 0.8323 - val_loss: 0.5773 - val_acc: 0.7489\n",
      "Epoch 10/10\n",
      "219205/219205 [==============================] - 146s - loss: 0.3623 - acc: 0.8340 - val_loss: 0.5922 - val_acc: 0.7460\n"
     ]
    },
    {
     "data": {
      "text/plain": [
       "<keras.callbacks.History at 0x7f6582613470>"
      ]
     },
     "execution_count": 4,
     "metadata": {},
     "output_type": "execute_result"
    }
   ],
   "source": [
    "input=Input(shape=(80,),dtype='int32')\n",
    "\n",
    "x=Embedding(max_features+1,\n",
    "                    embedding_dims,\n",
    "                    input_length=maxlen,\n",
    "                    dropout=0.2,)(input)\n",
    "\n",
    "x=LSTM(128, dropout_W=0.2, dropout_U=0.2)(x)\n",
    "\n",
    "x=Dense(1)(x)\n",
    "output=Activation('sigmoid')(x)\n",
    "\n",
    "model=Model(input=[input],output=output)\n",
    "\n",
    "model.compile(loss='binary_crossentropy',\n",
    "              optimizer='adam',\n",
    "              metrics=['accuracy'])\n",
    "model.fit(xs, ys,\n",
    "          batch_size=batch_size,\n",
    "          nb_epoch=nb_epoch,validation_split=0.2,verbose=1)\n"
   ]
  },
  {
   "cell_type": "code",
   "execution_count": null,
   "metadata": {
    "collapsed": true
   },
   "outputs": [],
   "source": []
  }
 ],
 "metadata": {
  "anaconda-cloud": {},
  "kernelspec": {
   "display_name": "Python [conda root]",
   "language": "python",
   "name": "conda-root-py"
  },
  "language_info": {
   "codemirror_mode": {
    "name": "ipython",
    "version": 3
   },
   "file_extension": ".py",
   "mimetype": "text/x-python",
   "name": "python",
   "nbconvert_exporter": "python",
   "pygments_lexer": "ipython3",
   "version": "3.5.2"
  }
 },
 "nbformat": 4,
 "nbformat_minor": 1
}
